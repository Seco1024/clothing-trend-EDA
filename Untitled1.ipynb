{
 "cells": [
  {
   "cell_type": "code",
   "execution_count": 4,
   "id": "d383ab08",
   "metadata": {},
   "outputs": [],
   "source": [
    "def decode(r):\n",
    "    dic={\"a\":\"0\",\"b\":\"1\",\"c\":\"2\",\"d\":\"3\",\"e\":\"4\",\"f\":\"5\",\"g\":\"6\",\"h\":\"7\",\"i\":\"8\",\"j\":\"9\",\"k\":\"10\"\n",
    "         ,\"l\":\"11\",\"m\":\"12\",\"n\":\"13\",\"o\":\"14\",\"p\":\"15\",\"q\":\"16\",\"r\":\"17\",\"s\":\"18\",\"t\":\"19\",\"u\":\"20\",\"v\":\"21\",\"w\":\"22\",\"x\":\"23\"\n",
    "         ,\"y\":\"24\",\"z\":\"25\"}\n",
    "    \n",
    "    for i in r[4:7]:\n",
    "        r=r.replace(i,dic[i])\n",
    "    return r"
   ]
  },
  {
   "cell_type": "code",
   "execution_count": 5,
   "id": "1367c482",
   "metadata": {},
   "outputs": [
    {
     "data": {
      "text/plain": [
       "'abcd456h'"
      ]
     },
     "execution_count": 5,
     "metadata": {},
     "output_type": "execute_result"
    }
   ],
   "source": [
    "decode(\"abcdefgh\")"
   ]
  },
  {
   "cell_type": "code",
   "execution_count": 1,
   "id": "5f52b673",
   "metadata": {},
   "outputs": [],
   "source": [
    "    dic={\"a\":\"0\",\"b\":\"1\",\"c\":\"2\",\"d\":\"3\",\"e\":\"4\",\"f\":\"5\",\"g\":\"6\",\"h\":\"7\",\"i\":\"8\",\"j\":\"9\",\"k\":\"10\"\n",
    "         ,\"l\":\"11\",\"m\":\"12\",\"n\":\"13\",\"o\":\"14\",\"p\":\"15\",\"q\":\"16\",\"r\":\"17\",\"s\":\"18\",\"t\":\"19\",\"u\":\"20\",\"v\":\"21\",\"w\":\"22\",\"x\":\"23\"\n",
    "         ,\"y\":\"24\",\"z\":\"25\"}"
   ]
  },
  {
   "cell_type": "code",
   "execution_count": 3,
   "id": "a28105cc",
   "metadata": {},
   "outputs": [
    {
     "data": {
      "text/plain": [
       "'0'"
      ]
     },
     "execution_count": 3,
     "metadata": {},
     "output_type": "execute_result"
    }
   ],
   "source": [
    "dic['a']"
   ]
  },
  {
   "cell_type": "code",
   "execution_count": 30,
   "id": "c27a4667",
   "metadata": {},
   "outputs": [
    {
     "ename": "AttributeError",
     "evalue": "'list' object has no attribute 'replace'",
     "output_type": "error",
     "traceback": [
      "\u001b[1;31m---------------------------------------------------------------------------\u001b[0m",
      "\u001b[1;31mAttributeError\u001b[0m                            Traceback (most recent call last)",
      "\u001b[1;32m<ipython-input-30-64eb6d429294>\u001b[0m in \u001b[0;36m<module>\u001b[1;34m\u001b[0m\n\u001b[0;32m      1\u001b[0m \u001b[1;32mfor\u001b[0m \u001b[0mac\u001b[0m \u001b[1;32min\u001b[0m \u001b[0ma\u001b[0m\u001b[1;33m:\u001b[0m\u001b[1;33m\u001b[0m\u001b[1;33m\u001b[0m\u001b[0m\n\u001b[1;32m----> 2\u001b[1;33m     \u001b[0ma\u001b[0m\u001b[1;33m=\u001b[0m\u001b[0ma\u001b[0m\u001b[1;33m.\u001b[0m\u001b[0mreplace\u001b[0m\u001b[1;33m(\u001b[0m\u001b[0mac\u001b[0m\u001b[1;33m,\u001b[0m\u001b[0mdic\u001b[0m\u001b[1;33m[\u001b[0m\u001b[0mac\u001b[0m\u001b[1;33m]\u001b[0m\u001b[1;33m)\u001b[0m\u001b[1;33m\u001b[0m\u001b[1;33m\u001b[0m\u001b[0m\n\u001b[0m",
      "\u001b[1;31mAttributeError\u001b[0m: 'list' object has no attribute 'replace'"
     ]
    }
   ],
   "source": [
    "for ac in a:\n",
    "    a=a.replace(ac,dic[ac])"
   ]
  },
  {
   "cell_type": "code",
   "execution_count": null,
   "id": "bb9cc673",
   "metadata": {},
   "outputs": [],
   "source": []
  }
 ],
 "metadata": {
  "kernelspec": {
   "display_name": "Python 3",
   "language": "python",
   "name": "python3"
  },
  "language_info": {
   "codemirror_mode": {
    "name": "ipython",
    "version": 3
   },
   "file_extension": ".py",
   "mimetype": "text/x-python",
   "name": "python",
   "nbconvert_exporter": "python",
   "pygments_lexer": "ipython3",
   "version": "3.8.8"
  }
 },
 "nbformat": 4,
 "nbformat_minor": 5
}
